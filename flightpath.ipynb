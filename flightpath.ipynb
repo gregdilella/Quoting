{
 "cells": [
  {
   "cell_type": "code",
   "execution_count": 19,
   "metadata": {},
   "outputs": [
    {
     "name": "stdout",
     "output_type": "stream",
     "text": [
      "Flights at JFK airport:\n"
     ]
    },
    {
     "ename": "KeyError",
     "evalue": "'data'",
     "output_type": "error",
     "traceback": [
      "\u001b[0;31m---------------------------------------------------------------------------\u001b[0m",
      "\u001b[0;31mKeyError\u001b[0m                                  Traceback (most recent call last)",
      "Cell \u001b[0;32mIn[19], line 31\u001b[0m\n\u001b[1;32m     29\u001b[0m \u001b[39m# Display flight data for each airport\u001b[39;00m\n\u001b[1;32m     30\u001b[0m \u001b[39mprint\u001b[39m(\u001b[39mf\u001b[39m\u001b[39m\"\u001b[39m\u001b[39mFlights at \u001b[39m\u001b[39m{\u001b[39;00mairport1_iata\u001b[39m}\u001b[39;00m\u001b[39m airport:\u001b[39m\u001b[39m\"\u001b[39m)\n\u001b[0;32m---> 31\u001b[0m \u001b[39mfor\u001b[39;00m flight \u001b[39min\u001b[39;00m airport1_data[\u001b[39m\"\u001b[39;49m\u001b[39mdata\u001b[39;49m\u001b[39m\"\u001b[39;49m]:\n\u001b[1;32m     32\u001b[0m     \u001b[39mprint\u001b[39m(\u001b[39mf\u001b[39m\u001b[39m\"\u001b[39m\u001b[39mFlight: \u001b[39m\u001b[39m{\u001b[39;00mflight[\u001b[39m'\u001b[39m\u001b[39mflight_iata\u001b[39m\u001b[39m'\u001b[39m]\u001b[39m}\u001b[39;00m\u001b[39m, Aircraft: \u001b[39m\u001b[39m{\u001b[39;00mflight[\u001b[39m'\u001b[39m\u001b[39maircraft_iata\u001b[39m\u001b[39m'\u001b[39m]\u001b[39m}\u001b[39;00m\u001b[39m\"\u001b[39m)\n\u001b[1;32m     34\u001b[0m \u001b[39mprint\u001b[39m(\u001b[39mf\u001b[39m\u001b[39m\"\u001b[39m\u001b[39m\\n\u001b[39;00m\u001b[39mFlights at \u001b[39m\u001b[39m{\u001b[39;00mairport2_iata\u001b[39m}\u001b[39;00m\u001b[39m airport:\u001b[39m\u001b[39m\"\u001b[39m)\n",
      "\u001b[0;31mKeyError\u001b[0m: 'data'"
     ]
    }
   ],
   "source": [
    "import requests\n",
    "\n",
    "# AviationStack API endpoint to retrieve flight data\n",
    "AVIATIONSTACK_API_URL = \"https://api.aviationstack.com/v1/flights\"\n",
    "\n",
    "# AviationStack API access key (replace with your own key)\n",
    "API_ACCESS_KEY = \"1caae288d9c0e6598ecd439afecf8119\"\n",
    "\n",
    "# Function to retrieve flight data for a given airport\n",
    "def get_flight_data(airport_iata):\n",
    "    params = {\n",
    "        \"access_key\": API_ACCESS_KEY,\n",
    "        \"iata_code\": airport_iata,\n",
    "    }\n",
    "\n",
    "    response = requests.get(AVIATIONSTACK_API_URL, params=params)\n",
    "    data = response.json()\n",
    "\n",
    "    return data\n",
    "\n",
    "# Input airports\n",
    "airport1_iata = \"JFK\"  # IATA code for Vancouver International Airport\n",
    "airport2_iata = \"ORD\"  # IATA code for Toronto Pearson International Airport\n",
    "\n",
    "# Retrieve flight data for the airports\n",
    "airport1_data = get_flight_data(airport1_iata)\n",
    "airport2_data = get_flight_data(airport2_iata)\n",
    "\n",
    "# Display flight data for each airport\n",
    "print(f\"Flights at {airport1_iata} airport:\")\n",
    "for flight in airport1_data[\"data\"]:\n",
    "    print(f\"Flight: {flight['flight_iata']}, Aircraft: {flight['aircraft_iata']}\")\n",
    "\n",
    "print(f\"\\nFlights at {airport2_iata} airport:\")\n",
    "for flight in airport2_data[\"data\"]:\n",
    "    print(f\"Flight: {flight['flight_iata']}, Aircraft: {flight['aircraft_iata']}\")\n"
   ]
  },
  {
   "cell_type": "code",
   "execution_count": null,
   "metadata": {},
   "outputs": [],
   "source": []
  },
  {
   "cell_type": "code",
   "execution_count": 21,
   "metadata": {},
   "outputs": [
    {
     "name": "stdout",
     "output_type": "stream",
     "text": [
      "No flight data available for the specified flight.\n"
     ]
    }
   ],
   "source": [
    "import requests\n",
    "\n",
    "\n",
    "url = 'http://api.aviationstack.com/v1/flights'\n",
    "\n",
    "# Specify the parameters for your flight data request\n",
    "params = {\n",
    "    'access_key': '1caae288d9c0e6598ecd439afecf8119',\n",
    "    'airport_iata': 'JFK',\n",
    "    'limit': 5\n",
    "}\n",
    "\n",
    "# Make a GET request to the AviationStack API\n",
    "response = requests.get(url, params=params)\n",
    "\n",
    "# Check if the request was successful\n",
    "if response.status_code == 200:\n",
    "    data = response.json()\n",
    "\n",
    "    # Check if flight data is available\n",
    "    if data['data']:\n",
    "        flight = data['data'][0]\n",
    "        print(f\"Flight IATA: {flight['iata']}\")\n",
    "        print(f\"Airline: {flight['airline']}\")\n",
    "        print(f\"Departure Airport: {flight['departure']['airport']}\")\n",
    "        print(f\"Arrival Airport: {flight['arrival']['airport']}\")\n",
    "        print(f\"Departure Date: {flight['departure']['estimated']}\")\n",
    "        print(f\"Arrival Date: {flight['arrival']['estimated']}\")\n",
    "        if not flight['live']['is_ground']:\n",
    "            print(\"The flight is in the air.\")\n",
    "        else:\n",
    "            print(\"The flight is currently on the ground.\")\n",
    "    else:\n",
    "        print(\"No flight data available for the specified flight.\")\n",
    "else:\n",
    "    print(\"Error retrieving flight data. Check your API key and request parameters.\")\n",
    "\n",
    "\n",
    "\n",
    "\n",
    "\n"
   ]
  }
 ],
 "metadata": {
  "kernelspec": {
   "display_name": "venv",
   "language": "python",
   "name": "python3"
  },
  "language_info": {
   "codemirror_mode": {
    "name": "ipython",
    "version": 3
   },
   "file_extension": ".py",
   "mimetype": "text/x-python",
   "name": "python",
   "nbconvert_exporter": "python",
   "pygments_lexer": "ipython3",
   "version": "3.10.9"
  },
  "orig_nbformat": 4
 },
 "nbformat": 4,
 "nbformat_minor": 2
}
